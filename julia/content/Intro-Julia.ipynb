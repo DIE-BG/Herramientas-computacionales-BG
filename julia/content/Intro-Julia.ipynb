{
 "cells": [
  {
   "cell_type": "markdown",
   "source": [
    "# Introducción a Julia"
   ],
   "metadata": {}
  },
  {
   "cell_type": "markdown",
   "source": [
    "En este documento se exploran algunas de las características que diferencian a\n",
    "Julia respecto de lenguajes como MATLAB, Python, o R. Julia permite ser\n",
    "utilizado tan fácilmente como MATLAB, sin embargo, más allá de la sintaxis del\n",
    "lenguaje, existen diferencias técnicas muy importantes. En este cuaderno\n",
    "exploramos algunas de estas características."
   ],
   "metadata": {}
  },
  {
   "cell_type": "markdown",
   "source": [
    "Para tener una idea más general de las diferencias entre Julia y otros\n",
    "lenguajes, podemos consultar las siguientes referencias:\n",
    "- [https://cheatsheets.quantecon.org/](https://cheatsheets.quantecon.org/)\n",
    "- [Learn Julia in Y minutes](https://learnxinyminutes.com/docs/julia/)\n",
    "- [*Frequently Asked Questions*](https://docs.julialang.org/en/v1/manual/faq/)\n",
    "- [*Noteworthy Differences from other Languages*](https://docs.julialang.org/en/v1/manual/noteworthy-differences)"
   ],
   "metadata": {}
  },
  {
   "cell_type": "markdown",
   "source": [
    "## Cómo pedir ayuda\n",
    "La principal fuente de ayuda es el\n",
    "[manual](https://docs.julialang.org/en/v1/). También podemos revisar\n",
    "documentación de las funciones entrando al modo de ayuda en el REPL\n",
    "escribiendo un `?`. Por ejemplo, si escribimos `?cos`, nos dará la\n",
    "documentación de la función `cos`."
   ],
   "metadata": {}
  },
  {
   "cell_type": "markdown",
   "source": [
    "Otra fuente importante de ayuda es el foro de ayuda [Julia Language Discourse](https://discourse.julialang.org/). Muchos problemas comunes ya están resueltos en la sección de primeros pasos."
   ],
   "metadata": {}
  },
  {
   "cell_type": "markdown",
   "source": [
    "## Tipos de objetos"
   ],
   "metadata": {}
  },
  {
   "cell_type": "markdown",
   "source": [
    "¿Es esto un vector?"
   ],
   "metadata": {}
  },
  {
   "outputs": [],
   "cell_type": "code",
   "source": [
    "x = 1:100"
   ],
   "metadata": {},
   "execution_count": null
  },
  {
   "cell_type": "markdown",
   "source": [
    "Podemos hacer algunas operaciones comúnes con este objeto, como indexarlo y obtener su tamaño:"
   ],
   "metadata": {}
  },
  {
   "outputs": [],
   "cell_type": "code",
   "source": [
    "x[20:30]"
   ],
   "metadata": {},
   "execution_count": null
  },
  {
   "outputs": [],
   "cell_type": "code",
   "source": [
    "length(x)"
   ],
   "metadata": {},
   "execution_count": null
  },
  {
   "outputs": [],
   "cell_type": "code",
   "source": [
    "size(x)"
   ],
   "metadata": {},
   "execution_count": null
  },
  {
   "cell_type": "markdown",
   "source": [
    "Todo parece indicar que este objeto es un vector. Sin embargo, los vectores en Julia son de tipo `Array{T,1}` o `Vector{T}`"
   ],
   "metadata": {}
  },
  {
   "outputs": [],
   "cell_type": "code",
   "source": [
    "typeof(x)"
   ],
   "metadata": {},
   "execution_count": null
  },
  {
   "cell_type": "markdown",
   "source": [
    "Veamos qué tiene por dentro:"
   ],
   "metadata": {}
  },
  {
   "outputs": [],
   "cell_type": "code",
   "source": [
    "dump(1:100)"
   ],
   "metadata": {},
   "execution_count": null
  },
  {
   "cell_type": "markdown",
   "source": [
    "Ajá. Este objeto está representado por 2 enteros nada más. Esto sí es un vector. (Y sí, una variable se puede llamar así `\\prime<TAB> = ′`)"
   ],
   "metadata": {}
  },
  {
   "outputs": [],
   "cell_type": "code",
   "source": [
    "x′ = collect(x)"
   ],
   "metadata": {},
   "execution_count": null
  },
  {
   "cell_type": "markdown",
   "source": [
    "¿Qué diferencia hace esto en memoria? Veamos."
   ],
   "metadata": {}
  },
  {
   "outputs": [],
   "cell_type": "code",
   "source": [
    "varinfo()"
   ],
   "metadata": {},
   "execution_count": null
  },
  {
   "cell_type": "markdown",
   "source": [
    "Es claro que es mucho más económico (computacionalmente) operar con `x` que\n",
    "con `x′`. Esto es algo muy común en Julia, el sistema de tipos, en conjunto\n",
    "con el *multiple dispatch* permite que los objetos implementen funcionalidad\n",
    "específica, a pesar de ser otros tipos. Este comportamiento se implementa a\n",
    "través de [interfaces](https://docs.julialang.org/en/v1/manual/interfaces/).\n",
    "Veamos cómo implementar eficientemente un vector de tipo One-hot."
   ],
   "metadata": {}
  },
  {
   "cell_type": "markdown",
   "source": [
    "Un vector de tipo One-hot es un vector de tamaño $n$ que tiene todas sus\n",
    "entradas iguales a cero, excepto en una de las posiciones. Podemos pensar en\n",
    "este tipo de vectores como un conjunto de variables dicótomas. A continuación,\n",
    "creamos un objeto muy compacto que se comporta como un vector One-hot."
   ],
   "metadata": {}
  },
  {
   "outputs": [],
   "cell_type": "code",
   "source": [
    "struct OneHot <: AbstractVector{Int}\n",
    "    n::Int  # tamaño del vector\n",
    "    i::Int  # posición donde es 1\n",
    "end"
   ],
   "metadata": {},
   "execution_count": null
  },
  {
   "cell_type": "markdown",
   "source": [
    "Para que este pueda funcionar como un vector (inmutable), debemos implementar,\n",
    "como mínimo, los métodos `size` y `getindex`. Como estos están definidos en el\n",
    "módulo `Base`, se deben importar para poder extender:"
   ],
   "metadata": {}
  },
  {
   "outputs": [],
   "cell_type": "code",
   "source": [
    "import Base: size, getindex\n",
    "size(a::OneHot) = (a.n, )\n",
    "getindex(a::OneHot, i::Int) = Int(a.i == i)"
   ],
   "metadata": {},
   "execution_count": null
  },
  {
   "cell_type": "markdown",
   "source": [
    "¡Y ahora nuestro objeto ya funciona como un vector! En este punto, ya podemos\n",
    "crear un objeto:"
   ],
   "metadata": {}
  },
  {
   "outputs": [],
   "cell_type": "code",
   "source": [
    "s = OneHot(10, 1)"
   ],
   "metadata": {},
   "execution_count": null
  },
  {
   "outputs": [],
   "cell_type": "code",
   "source": [
    "size(s)"
   ],
   "metadata": {},
   "execution_count": null
  },
  {
   "outputs": [],
   "cell_type": "code",
   "source": [
    "s[0]"
   ],
   "metadata": {},
   "execution_count": null
  },
  {
   "outputs": [],
   "cell_type": "code",
   "source": [
    "s[5:10]"
   ],
   "metadata": {},
   "execution_count": null
  },
  {
   "outputs": [],
   "cell_type": "code",
   "source": [
    "length(s)"
   ],
   "metadata": {},
   "execution_count": null
  },
  {
   "cell_type": "markdown",
   "source": [
    "Veamos la representación en memoria de nuestro objeto:"
   ],
   "metadata": {}
  },
  {
   "outputs": [],
   "cell_type": "code",
   "source": [
    "varinfo()"
   ],
   "metadata": {},
   "execution_count": null
  },
  {
   "cell_type": "markdown",
   "source": [
    "Como vemos, este objeto es bastante compacto. Además, por heredar de\n",
    "`AbstractVector`, lo podemos utilizar como un vector en cualquier otra\n",
    "operación. Por ejemplo, consideremos el siguiente producto matricial:"
   ],
   "metadata": {}
  },
  {
   "outputs": [],
   "cell_type": "code",
   "source": [
    "A = rand(10, 10)"
   ],
   "metadata": {},
   "execution_count": null
  },
  {
   "outputs": [],
   "cell_type": "code",
   "source": [
    "A * s"
   ],
   "metadata": {},
   "execution_count": null
  },
  {
   "cell_type": "markdown",
   "source": [
    "Sin embargo, podemos hacer este producto más eficiente, ¿no?. ¿Cómo? El\n",
    "producto de una matriz con un vector One-hot es equivalente a tomar la columna\n",
    "$i$ de la matriz en donde la entrada sea igual a 1 en el vector. Debemos\n",
    "definir cómo se debe comportar el producto de una matriz con un vector\n",
    "One-hot:"
   ],
   "metadata": {}
  },
  {
   "outputs": [],
   "cell_type": "code",
   "source": [
    "# Extendemos la definición de la multiplicación\n",
    "Base.:*(A::AbstractMatrix, x::OneHot) = A[:, x.i]\n",
    "\n",
    "A * s"
   ],
   "metadata": {},
   "execution_count": null
  },
  {
   "cell_type": "markdown",
   "source": [
    "Este es solo uno de los muchos ejemplos en Julia sobre las interfaces."
   ],
   "metadata": {}
  },
  {
   "cell_type": "markdown",
   "source": [
    "## Formas de crear funciones\n",
    "Veamos [All ways to define functions in Julia?](https://discourse.julialang.org/t/all-ways-to-define-functions-in-julia/45816)"
   ],
   "metadata": {}
  },
  {
   "cell_type": "markdown",
   "source": [
    "A diferencia de MATLAB, es **muy** fácil crear funciones con parámetros\n",
    "opcionales, tanto posicionales como nombrados, y cada uno con valores por defecto:"
   ],
   "metadata": {}
  },
  {
   "outputs": [],
   "cell_type": "code",
   "source": [
    "function complex_function(a=1, b=a ,c...=ones(10)...; α=0.5, β=1-α, γ=one(a), kwargs...)\n",
    "\n",
    "    z1 = a*sum(c) + b\n",
    "    z2 = γ * (α + β)\n",
    "    @show kwargs\n",
    "\n",
    "    z = z1 + z2\n",
    "    z # return es opcional\n",
    "end"
   ],
   "metadata": {},
   "execution_count": null
  },
  {
   "cell_type": "markdown",
   "source": [
    "Lo que automáticamente genera diferentes formas de llamar a la función:"
   ],
   "metadata": {}
  },
  {
   "outputs": [],
   "cell_type": "code",
   "source": [
    "methods(complex_function)"
   ],
   "metadata": {},
   "execution_count": null
  },
  {
   "cell_type": "markdown",
   "source": [
    "Una muy sencilla es utilizar todos los parámetros por defecto:"
   ],
   "metadata": {}
  },
  {
   "outputs": [],
   "cell_type": "code",
   "source": [
    "complex_function()"
   ],
   "metadata": {},
   "execution_count": null
  },
  {
   "cell_type": "markdown",
   "source": [
    "Pero también muchas otras formas válidas:"
   ],
   "metadata": {}
  },
  {
   "outputs": [],
   "cell_type": "code",
   "source": [
    "complex_function(1, 2, 3,4,5,6, γ=2.0, extra1 = 10, extra2 = 20)"
   ],
   "metadata": {},
   "execution_count": null
  },
  {
   "cell_type": "markdown",
   "source": [
    "Al llamar con argumentos nombrados, podemos utilizar `;` o no."
   ],
   "metadata": {}
  },
  {
   "cell_type": "markdown",
   "source": [
    "## Formas de crear vectores y matrices\n",
    "Esta sintaxis es tomada de Python, se llama *array comprehension*:"
   ],
   "metadata": {}
  },
  {
   "outputs": [],
   "cell_type": "code",
   "source": [
    "# Índices de remuestreo para bloques de 25 meses\n",
    "ids = [(12i + j):(12i + j + 24) for i in 0:7, j in 1:12]"
   ],
   "metadata": {},
   "execution_count": null
  },
  {
   "cell_type": "markdown",
   "source": [
    "## Do-block"
   ],
   "metadata": {}
  },
  {
   "cell_type": "markdown",
   "source": [
    "Podemos utilizar el bloque `do` para crear funciones anónimas que se pasan a\n",
    "funciones superiores."
   ],
   "metadata": {}
  },
  {
   "outputs": [],
   "cell_type": "code",
   "source": [
    "# Eleva cada elemento en 1:10 al cuadrado\n",
    "map(1:10) do i\n",
    "    i^2\n",
    "end"
   ],
   "metadata": {},
   "execution_count": null
  },
  {
   "outputs": [],
   "cell_type": "code",
   "source": [
    "# Aplica f y luego suma los resultados\n",
    "sum(1:10) do x\n",
    "    2x-1\n",
    "end"
   ],
   "metadata": {},
   "execution_count": null
  },
  {
   "cell_type": "markdown",
   "source": [
    "## Las funciones son de su propio tipo de objeto"
   ],
   "metadata": {}
  },
  {
   "cell_type": "markdown",
   "source": [
    "Crear una función de esta forma:"
   ],
   "metadata": {}
  },
  {
   "outputs": [],
   "cell_type": "code",
   "source": [
    "h1(x, y) = x + y\n",
    "\n",
    "h1(2,3)"
   ],
   "metadata": {},
   "execution_count": null
  },
  {
   "cell_type": "markdown",
   "source": [
    "Es equivalente a esto:"
   ],
   "metadata": {}
  },
  {
   "outputs": [],
   "cell_type": "code",
   "source": [
    "struct H2 <: Function end\n",
    "(::H2)(x, y) = x + y\n",
    "const h2 = H2()\n",
    "\n",
    "h2(2, 3)"
   ],
   "metadata": {},
   "execution_count": null
  },
  {
   "cell_type": "markdown",
   "source": [
    "## Julia es un lenguaje compilado"
   ],
   "metadata": {}
  },
  {
   "cell_type": "markdown",
   "source": [
    "A diferencia de Python, MATLAB o R, que son lenguajes interpretados, Julia es\n",
    "un lenguaje compilado. Sin embargo, su sistema de tipos dinámicos y la\n",
    "interactividad hacen parecer que es un lenguaje interpretado. En los lenguajes\n",
    "interpretados, el código fuente es transformado directamente en código de\n",
    "máquina, el cual es finalmente ejecutado por el procesador. Como resultado,\n",
    "tienden a ser más rápidos y eficientes de ejecutar que los lenguajes\n",
    "interpretados. También le dan al desarrollador más control sobre los aspectos\n",
    "del hardware, como la administración de la memoria y el uso de la CPU."
   ],
   "metadata": {}
  },
  {
   "cell_type": "markdown",
   "source": [
    "Por ejemplo, veamos esta función:"
   ],
   "metadata": {}
  },
  {
   "outputs": [],
   "cell_type": "code",
   "source": [
    "f(x) = 2x"
   ],
   "metadata": {},
   "execution_count": null
  },
  {
   "cell_type": "markdown",
   "source": [
    "Cada vez que llamemos a `f`, Julia revisará el tipo de la variable `x` y compilará su código antes de ejecutar la función. En este proceso, Julia intentará generar el código **más eficiente posible**, porque sabe exactamente cómo se representa `x`. Veamos cómo es de diferente el código LLVM cuando llamamos a la función con dos tipos diferentes:"
   ],
   "metadata": {}
  },
  {
   "outputs": [],
   "cell_type": "code",
   "source": [
    "@code_llvm f(2)"
   ],
   "metadata": {},
   "execution_count": null
  },
  {
   "outputs": [],
   "cell_type": "code",
   "source": [
    "@code_llvm f(2.0)"
   ],
   "metadata": {},
   "execution_count": null
  },
  {
   "cell_type": "markdown",
   "source": [
    "El código LLVM es el penúltimo paso antes de la conversión de código a código de máquina. ¿Cómo podemos ver el código de máquina?"
   ],
   "metadata": {}
  },
  {
   "cell_type": "markdown",
   "source": [
    "### Introspección del código\n",
    "Pasos en el análisis de código y ejecución de Julia:\n",
    "- El AST después de analizar <- Macros\n",
    "- El AST después de la inferencia de tipo y la optimización <- Funciones generadas (`@code_lowered`)\n",
    "- El AST después de la representación de bajo nivel (`@code_typed`)\n",
    "- Las funciones LLVM IR <- (`@code_llvm`)\n",
    "- El código ensamblador (`@code_native`)"
   ],
   "metadata": {}
  },
  {
   "outputs": [],
   "cell_type": "code",
   "source": [
    "@code_lowered f(2)"
   ],
   "metadata": {},
   "execution_count": null
  },
  {
   "outputs": [],
   "cell_type": "code",
   "source": [
    "@code_typed f(2)"
   ],
   "metadata": {},
   "execution_count": null
  },
  {
   "outputs": [],
   "cell_type": "code",
   "source": [
    "@code_llvm f(2)"
   ],
   "metadata": {},
   "execution_count": null
  },
  {
   "outputs": [],
   "cell_type": "code",
   "source": [
    "@code_native f(2)"
   ],
   "metadata": {},
   "execution_count": null
  },
  {
   "cell_type": "markdown",
   "source": [
    "## Estabilidad de tipos (type-stability)\n",
    "Para generar código eficiente, Julia requiere conocer en tiempo de compilación\n",
    "los tipos de las variables involucradas en el cómputo. En general, nos interesa generar funciones que sean computacionalmente eficientes si estas se han de ejecutar muchas veces. Por ejemplo, en algoritmos iterativos como procesos de optimización y simulación."
   ],
   "metadata": {}
  },
  {
   "cell_type": "markdown",
   "source": [
    "La siguiente macro `@code_warntype` nos ayuda a determinar si una función es estable en tipo."
   ],
   "metadata": {}
  },
  {
   "outputs": [],
   "cell_type": "code",
   "source": [
    "@code_warntype f(2.0)"
   ],
   "metadata": {},
   "execution_count": null
  },
  {
   "cell_type": "markdown",
   "source": [
    "Veamos un ejemplo clásico de cómo se genera la inestabilidad de tipos:"
   ],
   "metadata": {}
  },
  {
   "outputs": [],
   "cell_type": "code",
   "source": [
    "# Ejemplo de una función inestable en tipo\n",
    "function unstable_f(x)\n",
    "    if rand() > 0.5\n",
    "        x\n",
    "    else\n",
    "        1.0\n",
    "    end\n",
    "end"
   ],
   "metadata": {},
   "execution_count": null
  },
  {
   "outputs": [],
   "cell_type": "code",
   "source": [
    "@code_warntype unstable_f(1)"
   ],
   "metadata": {},
   "execution_count": null
  },
  {
   "outputs": [],
   "cell_type": "code",
   "source": [
    "@code_warntype unstable_f(1.0)"
   ],
   "metadata": {},
   "execution_count": null
  },
  {
   "cell_type": "markdown",
   "source": [
    "En este caso, veamos cómo podemos corregir nuestra función inestable en tipo."
   ],
   "metadata": {}
  },
  {
   "outputs": [],
   "cell_type": "code",
   "source": [
    "# Ejemplo de una función estable en tipo\n",
    "function stable_f(x)\n",
    "    if rand() > 0.5\n",
    "        x\n",
    "    else\n",
    "        one(x)\n",
    "    end\n",
    "end"
   ],
   "metadata": {},
   "execution_count": null
  },
  {
   "outputs": [],
   "cell_type": "code",
   "source": [
    "@code_warntype stable_f(1)"
   ],
   "metadata": {},
   "execution_count": null
  },
  {
   "outputs": [],
   "cell_type": "code",
   "source": [
    "@code_warntype stable_f(1.0)"
   ],
   "metadata": {},
   "execution_count": null
  },
  {
   "cell_type": "markdown",
   "source": [
    "### Optimización prematura del código\n",
    "La inestabilidad de tipos es un problema en las funciones en las que se\n",
    "requiere alto desempeño. Sin embargo, no es posible hacer todas las funciones\n",
    "estables en tipo, ya que a veces la inestabilidad en tipo es necesaria para\n",
    "mantener la flexibilidad y facilidad del lenguaje.\n",
    "\n",
    "> ¡La optimización prematura es la raíz de todo mal! - E. W. Dijkstra"
   ],
   "metadata": {}
  },
  {
   "cell_type": "markdown",
   "source": [
    "Se recomienda la siguiente estrategia de programación en Julia: **prototipar\n",
    "rápido y después medir el desempeño o cuidar más los detalles**."
   ],
   "metadata": {}
  },
  {
   "cell_type": "markdown",
   "source": [
    "Para más información:\n",
    "- [What does \"type-stable\" mean?](https://docs.julialang.org/en/v1/manual/faq/#man-type-stability)\n",
    "- [Write \"type-stable\" functions](https://docs.julialang.org/en/v1/manual/performance-tips/#Write-%22type-stable%22-functions)\n",
    "- [Writing type-stable Julia code](https://www.juliabloggers.com/writing-type-stable-julia-code/)"
   ],
   "metadata": {}
  },
  {
   "cell_type": "markdown",
   "source": [
    "## Las variables globales en el REPL tienen mal desempeño\n",
    "Las variables globales en Julia tienen un desempeño terrible. No usar globales\n",
    "es el primer hecho en los [tips de\n",
    "rendimiento](https://docs.julialang.org/en/v1/manual/performance-tips/) . Sin\n",
    "embargo, los recién llegados no se dan cuenta es que el REPL es el ambiente global\n",
    "global. Para ver por qué, veamos el siguiente ejemplo:"
   ],
   "metadata": {}
  },
  {
   "outputs": [],
   "cell_type": "code",
   "source": [
    "a = 3\n",
    "function badidea(n=10000)\n",
    "    z = 0\n",
    "    for j in 1:n\n",
    "        z = a + j\n",
    "    end\n",
    "    z\n",
    "end"
   ],
   "metadata": {},
   "execution_count": null
  },
  {
   "outputs": [],
   "cell_type": "code",
   "source": [
    "@time badidea()"
   ],
   "metadata": {},
   "execution_count": null
  },
  {
   "cell_type": "markdown",
   "source": [
    "En general, es mejor que las funciones requieran todos sus argumentos porque\n",
    "esto ayuda al compilador a determinar la forma más eficiente de llevar a cabo\n",
    "el cómputo. Es decir, Julia necesita saber en tiempo de compilación el tipo de\n",
    "todas las variables para generar código eficiente. En el caso de una variable\n",
    "global, puede determinar el tipo de la variable, pero no puede predecir si\n",
    "este tipo va a cambiar, por lo que Julia supone que podría cambiar. Esto hace\n",
    "que genere código menos eficiente."
   ],
   "metadata": {}
  },
  {
   "outputs": [],
   "cell_type": "code",
   "source": [
    "@code_warntype badidea()"
   ],
   "metadata": {},
   "execution_count": null
  },
  {
   "cell_type": "markdown",
   "source": [
    "Por otra parte, una forma muy buena de corregir esto es llevar a cabo el\n",
    "cómputo enviando todos los parámetros requeridos. Esto permite a Julia\n",
    "especializar completamente la función en tiempo de compilación."
   ],
   "metadata": {}
  },
  {
   "outputs": [],
   "cell_type": "code",
   "source": [
    "function goodidea(n=10000, a=3)\n",
    "    z = 0\n",
    "    for j in 1:n\n",
    "        z = a + j\n",
    "    end\n",
    "    z\n",
    "end"
   ],
   "metadata": {},
   "execution_count": null
  },
  {
   "outputs": [],
   "cell_type": "code",
   "source": [
    "@time goodidea()"
   ],
   "metadata": {},
   "execution_count": null
  },
  {
   "cell_type": "markdown",
   "source": [
    "Finalmente, a veces podría ser necesario utilizar una variable global en la computación. En este caso, una forma de ayudar al compilador es indicarle que la variable **no puede cambiar de tipo**. Esto se hace con la directiva `const`."
   ],
   "metadata": {}
  },
  {
   "outputs": [],
   "cell_type": "code",
   "source": [
    "const b = 3\n",
    "function maybegoodidea(n=10000)\n",
    "    z = 0\n",
    "    for j in 1:n\n",
    "        z = b + j\n",
    "    end\n",
    "    z\n",
    "end"
   ],
   "metadata": {},
   "execution_count": null
  },
  {
   "outputs": [],
   "cell_type": "code",
   "source": [
    "@time maybegoodidea()"
   ],
   "metadata": {},
   "execution_count": null
  },
  {
   "outputs": [],
   "cell_type": "code",
   "source": [
    "@code_warntype maybegoodidea()"
   ],
   "metadata": {},
   "execution_count": null
  },
  {
   "cell_type": "markdown",
   "source": [
    "## Macros (y metaprogramación)"
   ],
   "metadata": {}
  },
  {
   "cell_type": "markdown",
   "source": [
    "La metaprogramación es una característica de la homoiconicidad Julia. La\n",
    "idea clave es que cada declaración de Julia es del tipo expresión (`Expr`)."
   ],
   "metadata": {}
  },
  {
   "cell_type": "markdown",
   "source": [
    "Julia opera mediante la construcción de un árbol de sintaxis abstracta (AST) a\n",
    "partir de las expresiones. Por ejemplo, un símbolo como: `:PhysicalSciences` no\n",
    "es una cadena porque es parte del AST y, por lo tanto, es parte de la\n",
    "estructura de análisis / expresión. Una cosa interesante es que las\n",
    "comparaciones de símbolos son $O(1)$ mientras que las comparaciones de cadenas,\n",
    "como siempre, son $O(n)$ es parte de esto."
   ],
   "metadata": {}
  },
  {
   "cell_type": "markdown",
   "source": [
    "Las macros (las funciones extrañas con una `@`) son funciones sobre expresiones.\n",
    "Por lo tanto, puede pensar en la metaprogramación como \"código que toma código\n",
    "y genera código\". Un ejemplo básico es la macro `@time`. A continuación\n",
    "realizamos nuestra propia macro `@my_time`:"
   ],
   "metadata": {}
  },
  {
   "outputs": [],
   "cell_type": "code",
   "source": [
    "macro my_time(ex)\n",
    "    quote\n",
    "        t0 = time()\n",
    "        val = $ex\n",
    "        t1 = time()\n",
    "        println(\"elapsed time: \", t1-t0, \" seconds\")\n",
    "        val\n",
    "    end\n",
    "end"
   ],
   "metadata": {},
   "execution_count": null
  },
  {
   "cell_type": "markdown",
   "source": [
    "Esto toma una expresión ex, obtiene el tiempo antes y después de la evaluación\n",
    "e imprime el tiempo transcurrido entre (Julia tiene una macro @time que\n",
    "también calcula las asignaciones en memoria). Tenga en cuenta que `$ex`\n",
    "\"interpola\" la expresión en la macro."
   ],
   "metadata": {}
  },
  {
   "outputs": [],
   "cell_type": "code",
   "source": [
    "# Ejecutamos nuestra macro\n",
    "@my_time sleep(1)"
   ],
   "metadata": {},
   "execution_count": null
  },
  {
   "cell_type": "markdown",
   "source": [
    "Veamos cómo nuestra `@my_time` macro modifica el código al realizar una llamada a `sleep(2)`"
   ],
   "metadata": {}
  },
  {
   "outputs": [],
   "cell_type": "code",
   "source": [
    "@macroexpand @my_time sleep(1)"
   ],
   "metadata": {},
   "execution_count": null
  },
  {
   "cell_type": "markdown",
   "source": [
    "Podemos utilizar la función `Base.remove_linenums!` para ver la expresión sin los comentarios"
   ],
   "metadata": {}
  },
  {
   "outputs": [],
   "cell_type": "code",
   "source": [
    "Base.remove_linenums!(@macroexpand @my_time sleep(1))"
   ],
   "metadata": {},
   "execution_count": null
  },
  {
   "cell_type": "markdown",
   "source": [
    "**¿Por qué las macros?** Una razón es porque permiten definir cualquier\n",
    "sintaxis que se desee. Dado que opera en las propias expresiones, siempre que\n",
    "se sepa cómo analizar la expresión en código, permite \"elegir cualquier\n",
    "sintaxis\" para que sea nuestra sintaxis de preferencia. Otra razón es porque\n",
    "las macros se ejecutan en \"tiempo de análisis\" del código fuente (*parsing*) y solo se llaman\n",
    "una vez (antes de la compilación de la función)."
   ],
   "metadata": {}
  },
  {
   "cell_type": "markdown",
   "source": [
    "Como vimos anteriormente, permiten definir lenguajes de propósito específico:\n",
    "- [Turing](https://github.com/TuringLang/Turing.jl)\n",
    "- [JuMP](https://github.com/jump-dev/JuMP.jl)"
   ],
   "metadata": {}
  },
  {
   "cell_type": "markdown",
   "source": [
    "Incluso algunas otras que también son interesantes:\n",
    "- [OOPMacro](https://github.com/ipod825/OOPMacro.jl)\n",
    "- [WatchJuliaBurn](https://github.com/theogf/WatchJuliaBurn.jl)"
   ],
   "metadata": {}
  },
  {
   "cell_type": "markdown",
   "source": [
    "Veamos un ejemplo de una macro que define una función que devuelve siempre los\n",
    "mismos $n$ números aleatorios:"
   ],
   "metadata": {}
  },
  {
   "outputs": [],
   "cell_type": "code",
   "source": [
    "macro generate_random_fn(n)"
   ],
   "metadata": {},
   "execution_count": null
  },
  {
   "cell_type": "markdown",
   "source": [
    "Generar números aleatorios"
   ],
   "metadata": {}
  },
  {
   "outputs": [],
   "cell_type": "code",
   "source": [
    "    r = randn(n)\n",
    "    quote\n",
    "        function random_function()\n",
    "            $r\n",
    "        end\n",
    "    end |> eval\n",
    "end"
   ],
   "metadata": {},
   "execution_count": null
  },
  {
   "cell_type": "markdown",
   "source": [
    "Si ahora llamamos a `random_function`, esto genera un error, pues todavía no\n",
    "ha sido definida:"
   ],
   "metadata": {}
  },
  {
   "outputs": [],
   "cell_type": "code",
   "source": [
    "random_function()"
   ],
   "metadata": {},
   "execution_count": null
  },
  {
   "cell_type": "markdown",
   "source": [
    "Sin embargo, ahora podemos llamar a nuestra macro, que generará los números aleatorios y definirá la función con estos:"
   ],
   "metadata": {}
  },
  {
   "outputs": [],
   "cell_type": "code",
   "source": [
    "@generate_random_fn 5"
   ],
   "metadata": {},
   "execution_count": null
  },
  {
   "cell_type": "markdown",
   "source": [
    "Ahora sí podemos llamar a nuestra función:"
   ],
   "metadata": {}
  },
  {
   "outputs": [],
   "cell_type": "code",
   "source": [
    "random_function()"
   ],
   "metadata": {},
   "execution_count": null
  },
  {
   "outputs": [],
   "cell_type": "code",
   "source": [
    "random_function()"
   ],
   "metadata": {},
   "execution_count": null
  },
  {
   "cell_type": "markdown",
   "source": [
    "Ahora, podemos generarla con más argumentos. Nótese que es posible llamar también de esta forma a las macros:"
   ],
   "metadata": {}
  },
  {
   "outputs": [],
   "cell_type": "code",
   "source": [
    "@generate_random_fn(10)"
   ],
   "metadata": {},
   "execution_count": null
  },
  {
   "cell_type": "markdown",
   "source": [
    "Y esto generará una función diferente:"
   ],
   "metadata": {}
  },
  {
   "outputs": [],
   "cell_type": "code",
   "source": [
    "random_function()"
   ],
   "metadata": {},
   "execution_count": null
  },
  {
   "outputs": [],
   "cell_type": "code",
   "source": [
    "random_function()"
   ],
   "metadata": {},
   "execution_count": null
  },
  {
   "cell_type": "markdown",
   "source": [
    "Finalmente, notemos que con la metaprogramación es posible manipular cadenas de texto que representan el código fuente:"
   ],
   "metadata": {}
  },
  {
   "outputs": [],
   "cell_type": "code",
   "source": [
    "f_str = \"2x+1\"\n",
    "f_sym = Meta.parse(f_str)"
   ],
   "metadata": {},
   "execution_count": null
  },
  {
   "cell_type": "markdown",
   "source": [
    "Esto devuelve un símbolo, el cual puede contener variable u otras expresiones a ejecutar. Si evaluamos el símbolo, esto nos da un error:"
   ],
   "metadata": {}
  },
  {
   "outputs": [],
   "cell_type": "code",
   "source": [
    "eval(f_sym)"
   ],
   "metadata": {},
   "execution_count": null
  },
  {
   "cell_type": "markdown",
   "source": [
    "¡Pues claro! `x` no está definida todavía, simplemente manipulamos un código fuente que hacía referencia a esta variable."
   ],
   "metadata": {}
  },
  {
   "outputs": [],
   "cell_type": "code",
   "source": [
    "x = 10\n",
    "eval(f_sym)"
   ],
   "metadata": {},
   "execution_count": null
  },
  {
   "cell_type": "markdown",
   "source": [
    "---\n",
    "\n",
    "*This notebook was generated using [Literate.jl](https://github.com/fredrikekre/Literate.jl).*"
   ],
   "metadata": {}
  }
 ],
 "nbformat_minor": 3,
 "metadata": {
  "language_info": {
   "file_extension": ".jl",
   "mimetype": "application/julia",
   "name": "julia",
   "version": "1.6.1"
  },
  "kernelspec": {
   "name": "julia-1.6",
   "display_name": "Julia 1.6.1",
   "language": "julia"
  }
 },
 "nbformat": 4
}
